{
 "cells": [
  {
   "cell_type": "code",
   "execution_count": 1,
   "id": "cb8925e3-de3a-4ee4-8641-038bebd21924",
   "metadata": {},
   "outputs": [],
   "source": [
    "#importando bibliotecas necessarias\n",
    "import pandas as pd\n",
    "import matplotlib.pyplot as plt\n",
    "import seaborn as sns"
   ]
  },
  {
   "cell_type": "code",
   "execution_count": 6,
   "id": "1eb23309-514f-4ffa-adaf-c65d429b11f8",
   "metadata": {},
   "outputs": [],
   "source": [
    "#trazendo nosso csv para um dataframe do pandas\n",
    "dados_df = pd.read_csv('dados_agricolas_amazonas_atualizado.csv', sep=';', encoding='utf-8', low_memory = False)"
   ]
  },
  {
   "cell_type": "code",
   "execution_count": 9,
   "id": "1ada46f1-4aef-4b57-8e02-1dd29248e07f",
   "metadata": {},
   "outputs": [],
   "source": [
    "#agrupa os dados ano e produto e drea plantada\n",
    "area_por_ano_produto = dados_df.groupby(['Ano','Produto'])['Área Plantada (ha)'].sum().reset_index()\n",
    "display(dados_df)"
   ]
  },
  {
   "cell_type": "code",
   "execution_count": null,
   "id": "3845d376-bd1a-4d93-9585-f12140b5206c",
   "metadata": {},
   "outputs": [],
   "source": [
    "#geraçao de Grafico\n",
    "#Cria e configura o tamanh0 da figura será platanda\n",
    "plt.figure(figsize=(10,6))\n",
    "\n",
    "#criando um grafico  de barras\n",
    "sns.barplot(x='Ano', y='Área Plantada (ha)', hue='Produto', data = area_por_ano_produto, palette='Set2')\n",
    "plt.title('Area Plantada Por Produto em cada Ano',fontsize=16)\n",
    "plt.xlabel('Ano',fontsize=14)\n",
    "\n",
    "plt.legend(title='Produto', bbox_to_anchor=(1.05,1), loc='upper left')\n",
    "plt.ylabel('Área Plantada (ha)', fontsize=14)\n",
    "plt.show()"
   ]
  }
 ],
 "metadata": {
  "kernelspec": {
   "display_name": "Python 3 (ipykernel)",
   "language": "python",
   "name": "python3"
  },
  "language_info": {
   "codemirror_mode": {
    "name": "ipython",
    "version": 3
   },
   "file_extension": ".py",
   "mimetype": "text/x-python",
   "name": "python",
   "nbconvert_exporter": "python",
   "pygments_lexer": "ipython3",
   "version": "3.12.7"
  }
 },
 "nbformat": 4,
 "nbformat_minor": 5
}
